{
 "cells": [
  {
   "cell_type": "markdown",
   "metadata": {
    "_uuid": "1a52a40a31b75f2239f544a2d9086f874c98ae92"
   },
   "source": [
    "# Black Friday | _Drawing Conclusions from Data Analysis_\n",
    "\n",
    "From: https://www.kaggle.com/mehdidag/black-friday\n",
    "\n",
    "This dataset contains entries for purchases made during Black Friday for a specific retail store. It has features related to the customer (age, gender, occupation, etc.) as well as the product. The **Purchase** feature alludes to the amount of money spent on that transaction, it is not the price of the product."
   ]
  },
  {
   "cell_type": "markdown",
   "metadata": {},
   "source": [
    "***"
   ]
  },
  {
   "cell_type": "markdown",
   "metadata": {},
   "source": [
    "# SECTION 1: Data"
   ]
  },
  {
   "cell_type": "code",
   "execution_count": 1,
   "metadata": {
    "_uuid": "a957ddabdc08dfd4bd97eebb42cc30d148a72181"
   },
   "outputs": [],
   "source": [
    "# Warnings\n",
    "import warnings\n",
    "warnings.filterwarnings('ignore')\n",
    "\n",
    "# Data and analysis\n",
    "import pandas as pd\n",
    "import numpy as np\n",
    "\n",
    "# Visualization\n",
    "import seaborn as sns\n",
    "import matplotlib.pyplot as plt\n",
    "%matplotlib inline"
   ]
  },
  {
   "cell_type": "markdown",
   "metadata": {
    "_uuid": "384cac4a6f7f47a9c7aeb4187344fc4fc00f3c07"
   },
   "source": [
    "***"
   ]
  },
  {
   "cell_type": "markdown",
   "metadata": {
    "_uuid": "83cd2219b284ede5674d1a9b139aef39ea21744b"
   },
   "source": [
    "# Import Data\n",
    "\n",
    "Let's import the data into a Pandas dataframe and check out some of its broader aspects to see what we're working with."
   ]
  },
  {
   "cell_type": "code",
   "execution_count": 9,
   "metadata": {
    "_uuid": "5aa077562f8db916c62d102dfc5889834f349221"
   },
   "outputs": [
    {
     "data": {
      "text/html": [
       "<div>\n",
       "<style scoped>\n",
       "    .dataframe tbody tr th:only-of-type {\n",
       "        vertical-align: middle;\n",
       "    }\n",
       "\n",
       "    .dataframe tbody tr th {\n",
       "        vertical-align: top;\n",
       "    }\n",
       "\n",
       "    .dataframe thead th {\n",
       "        text-align: right;\n",
       "    }\n",
       "</style>\n",
       "<table border=\"1\" class=\"dataframe\">\n",
       "  <thead>\n",
       "    <tr style=\"text-align: right;\">\n",
       "      <th></th>\n",
       "      <th>User_ID</th>\n",
       "      <th>Product_ID</th>\n",
       "      <th>Gender</th>\n",
       "      <th>Age</th>\n",
       "      <th>Occupation</th>\n",
       "      <th>City_Category</th>\n",
       "      <th>Stay_In_Current_City_Years</th>\n",
       "      <th>Marital_Status</th>\n",
       "      <th>Product_Category_1</th>\n",
       "      <th>Product_Category_2</th>\n",
       "      <th>Product_Category_3</th>\n",
       "      <th>Purchase</th>\n",
       "    </tr>\n",
       "  </thead>\n",
       "  <tbody>\n",
       "    <tr>\n",
       "      <th>0</th>\n",
       "      <td>1000001</td>\n",
       "      <td>P00069042</td>\n",
       "      <td>F</td>\n",
       "      <td>0-17</td>\n",
       "      <td>10</td>\n",
       "      <td>A</td>\n",
       "      <td>2</td>\n",
       "      <td>0</td>\n",
       "      <td>3</td>\n",
       "      <td>NaN</td>\n",
       "      <td>NaN</td>\n",
       "      <td>8370</td>\n",
       "    </tr>\n",
       "    <tr>\n",
       "      <th>1</th>\n",
       "      <td>1000001</td>\n",
       "      <td>P00248942</td>\n",
       "      <td>F</td>\n",
       "      <td>0-17</td>\n",
       "      <td>10</td>\n",
       "      <td>A</td>\n",
       "      <td>2</td>\n",
       "      <td>0</td>\n",
       "      <td>1</td>\n",
       "      <td>6.0</td>\n",
       "      <td>14.0</td>\n",
       "      <td>15200</td>\n",
       "    </tr>\n",
       "  </tbody>\n",
       "</table>\n",
       "</div>"
      ],
      "text/plain": [
       "   User_ID Product_ID Gender   Age  Occupation City_Category  \\\n",
       "0  1000001  P00069042      F  0-17          10             A   \n",
       "1  1000001  P00248942      F  0-17          10             A   \n",
       "\n",
       "  Stay_In_Current_City_Years  Marital_Status  Product_Category_1  \\\n",
       "0                          2               0                   3   \n",
       "1                          2               0                   1   \n",
       "\n",
       "   Product_Category_2  Product_Category_3  Purchase  \n",
       "0                 NaN                 NaN      8370  \n",
       "1                 6.0                14.0     15200  "
      ]
     },
     "execution_count": 9,
     "metadata": {},
     "output_type": "execute_result"
    }
   ],
   "source": [
    "sales = pd.read_csv('BlackFriday.csv')\n",
    "sales.head(2)"
   ]
  },
  {
   "cell_type": "markdown",
   "metadata": {
    "_uuid": "9e54cea55fe5b2161ee87f34ed923c88d041a965"
   },
   "source": [
    "***"
   ]
  },
  {
   "cell_type": "markdown",
   "metadata": {},
   "source": [
    "# Exploratory Analysis & Feature Engineering"
   ]
  },
  {
   "cell_type": "markdown",
   "metadata": {
    "_uuid": "ab2b22198fd532d892fe5ddeafb7cfebe04830d0"
   },
   "source": [
    "## 1. Missing Values\n",
    "\n"
   ]
  },
  {
   "cell_type": "code",
   "execution_count": 12,
   "metadata": {
    "_uuid": "0fee736f3b50d0ccc2ac27725829d54816c084b1"
   },
   "outputs": [
    {
     "data": {
      "text/html": [
       "<div>\n",
       "<style scoped>\n",
       "    .dataframe tbody tr th:only-of-type {\n",
       "        vertical-align: middle;\n",
       "    }\n",
       "\n",
       "    .dataframe tbody tr th {\n",
       "        vertical-align: top;\n",
       "    }\n",
       "\n",
       "    .dataframe thead th {\n",
       "        text-align: right;\n",
       "    }\n",
       "</style>\n",
       "<table border=\"1\" class=\"dataframe\">\n",
       "  <thead>\n",
       "    <tr style=\"text-align: right;\">\n",
       "      <th></th>\n",
       "      <th>Total missing</th>\n",
       "      <th>% missing</th>\n",
       "    </tr>\n",
       "  </thead>\n",
       "  <tbody>\n",
       "    <tr>\n",
       "      <th>Product_Category_3</th>\n",
       "      <td>373299</td>\n",
       "      <td>69.441029</td>\n",
       "    </tr>\n",
       "    <tr>\n",
       "      <th>Product_Category_2</th>\n",
       "      <td>166986</td>\n",
       "      <td>31.062713</td>\n",
       "    </tr>\n",
       "    <tr>\n",
       "      <th>User_ID</th>\n",
       "      <td>0</td>\n",
       "      <td>0.000000</td>\n",
       "    </tr>\n",
       "  </tbody>\n",
       "</table>\n",
       "</div>"
      ],
      "text/plain": [
       "                    Total missing  % missing\n",
       "Product_Category_3         373299  69.441029\n",
       "Product_Category_2         166986  31.062713\n",
       "User_ID                         0   0.000000"
      ]
     },
     "execution_count": 12,
     "metadata": {},
     "output_type": "execute_result"
    }
   ],
   "source": [
    "total_miss = sales.isnull().sum()\n",
    "perc_miss = total_miss/sales.isnull().count()*100\n",
    "\n",
    "missing_data = pd.DataFrame({'Total missing':total_miss,\n",
    "                            '% missing':perc_miss})\n",
    "\n",
    "missing_data.sort_values(by='Total missing',\n",
    "                         ascending=False).head(3)"
   ]
  },
  {
   "cell_type": "markdown",
   "metadata": {
    "_uuid": "c8175fad0e3cf5380ac32f27859b59ecc8e642d1"
   },
   "source": [
    "Since most products will belong to only one category, it makes sense for less products to have a second category, let alone a third one."
   ]
  },
  {
   "cell_type": "markdown",
   "metadata": {
    "_uuid": "b9d399f6a94e1562a9373032dc24ef4b962fc33e"
   },
   "source": [
    "***"
   ]
  },
  {
   "cell_type": "markdown",
   "metadata": {
    "_uuid": "e852b300caddaadc21da9930e61a45c40e131995"
   },
   "source": [
    "## 2. Unique Values"
   ]
  },
  {
   "cell_type": "markdown",
   "metadata": {
    "_uuid": "1bf4b57722f90056148e35551b7540f4c183c110"
   },
   "source": [
    "Lets now explore unique values in some of the features. Remember there is a total of **537577** entries:"
   ]
  },
  {
   "cell_type": "code",
   "execution_count": 14,
   "metadata": {
    "_uuid": "0d0ae9bb1d51f6da493120d78550a1aef92a4774"
   },
   "outputs": [
    {
     "name": "stdout",
     "output_type": "stream",
     "text": [
      "Number of products: 3623\n",
      "Number of categories: 18\n",
      "Highest and lowest purchase: 23961 , 185\n"
     ]
    }
   ],
   "source": [
    "# Info about products\n",
    "print('Number of products:',sales['Product_ID'].nunique())\n",
    "print('Number of categories:',sales['Product_Category_1'].unique().max())\n",
    "print('Highest and lowest purchase:',\n",
    "      sales['Purchase'].max(),',',sales['Purchase'].min())"
   ]
  },
  {
   "cell_type": "code",
   "execution_count": 15,
   "metadata": {
    "_uuid": "ca76a5f105db632a52850c1e6240061f311c36a8"
   },
   "outputs": [
    {
     "name": "stdout",
     "output_type": "stream",
     "text": [
      "Number of shoppers: 5891\n",
      "Years in city: ['2' '4+' '3' '1' '0']\n",
      "Age Groups: ['0-17' '55+' '26-35' '46-50' '51-55' '36-45' '18-25']\n"
     ]
    }
   ],
   "source": [
    "# Info about shoppers\n",
    "print('Number of shoppers:',sales['User_ID'].nunique())\n",
    "print('Years in city:',sales['Stay_In_Current_City_Years'].unique())\n",
    "print('Age Groups:',sales['Age'].unique())"
   ]
  },
  {
   "cell_type": "markdown",
   "metadata": {
    "_uuid": "ca0fcbc372d4da0acf4c6cd2ad03e569fff46f03"
   },
   "source": [
    "***"
   ]
  },
  {
   "cell_type": "markdown",
   "metadata": {
    "_uuid": "61779741648fefb9b51125340e5ba452e8eabf00"
   },
   "source": [
    "## 3. Gender\n",
    "Lets first find whether the data is uniformly distributed by gender by looking at how many entries belong to each one:"
   ]
  },
  {
   "cell_type": "code",
   "execution_count": 16,
   "metadata": {
    "_uuid": "69a40edb2f02fcba33f724900b94a4b466b92dc8"
   },
   "outputs": [],
   "source": [
    "count_m = sales[sales['Gender']=='M'].count()[0]\n",
    "count_f = sales[sales['Gender']=='F'].count()[0]"
   ]
  },
  {
   "cell_type": "code",
   "execution_count": 17,
   "metadata": {
    "_uuid": "b60bbe3297723e6a820cd220905d4c21f221218e"
   },
   "outputs": [
    {
     "name": "stdout",
     "output_type": "stream",
     "text": [
      "Number of male clients: 405380\n",
      "Number of female clients: 132197\n"
     ]
    }
   ],
   "source": [
    "print('Number of male clients:',count_m)\n",
    "print('Number of female clients:',count_f)"
   ]
  },
  {
   "cell_type": "markdown",
   "metadata": {
    "_uuid": "5138a487a82ecf78d8f2dcec3005238e1b2c28d0"
   },
   "source": [
    "We can see that the number of male clients recorded exceeds the number of female clients recorded by almost 4 times. For this reason, it will be much more informational to analyze **Gender** by using ratios instead of counting each entry. Lets see how much each gender spent in regards to eachself:"
   ]
  },
  {
   "cell_type": "code",
   "execution_count": 18,
   "metadata": {
    "_uuid": "71dc80e826e00f9fb6ba074b59f84cb45354ac4c"
   },
   "outputs": [
    {
     "name": "stdout",
     "output_type": "stream",
     "text": [
      "Female Purchases: 8809.761\n",
      "Male Purchases: 9504.772\n"
     ]
    }
   ],
   "source": [
    "print('Female Purchases:',round(sales[sales['Gender']=='F']['Purchase'].sum()/count_f,3))\n",
    "print('Male Purchases:',round(sales[sales['Gender']=='M']['Purchase'].sum()/count_m,3))"
   ]
  },
  {
   "cell_type": "code",
   "execution_count": 42,
   "metadata": {
    "_uuid": "3499c79a3cf24a53985d4d2eaa9a5aa597abd192"
   },
   "outputs": [
    {
     "data": {
      "image/png": "[encoded data removed]",
      "text/plain": [
       "<Figure size 432x288 with 1 Axes>"
      ]
     },
     "metadata": {},
     "output_type": "display_data"
    }
   ],
   "source": [
    "plt.pie(sales.groupby('Gender')['Product_ID'].nunique(),labels=['Male','Female'],\n",
    "       shadow=True, autopct='%1.1f%%')\n",
    "plt.title('Unique Item Purchases by Gender')\n",
    "plt.show()"
   ]
  },
  {
   "cell_type": "markdown",
   "metadata": {
    "_uuid": "44c8f7f1fd916e2659631a69f14f6d38bf705b81"
   },
   "source": [
    "Although almost even, women did purchase a slightly wider array of products than men did. Now, lets analyze the proportions of each gender's purchase in terms of the product categories:"
   ]
  },
  {
   "cell_type": "code",
   "execution_count": 20,
   "metadata": {
    "_uuid": "148eefbfe02ab03e2e59a2db5cdcd9a41347af3c"
   },
   "outputs": [],
   "source": [
    "# Individual groupby dataframes for each gender\n",
    "gb_gender_m = sales[sales['Gender']=='M'][['Product_Category_1','Gender']].groupby(by='Product_Category_1').count()\n",
    "gb_gender_f = sales[sales['Gender']=='F'][['Product_Category_1','Gender']].groupby(by='Product_Category_1').count()\n",
    "\n",
    "# Concatenate and change column names\n",
    "cat_bygender = pd.concat([gb_gender_m,gb_gender_f],axis=1)\n",
    "cat_bygender.columns = ['M ratio','F ratio']\n",
    "\n",
    "# Adjust to reflect ratios\n",
    "cat_bygender['M ratio'] = cat_bygender['M ratio']/sales[sales['Gender']=='M'].count()[0]\n",
    "cat_bygender['F ratio'] = cat_bygender['F ratio']/sales[sales['Gender']=='F'].count()[0]\n",
    "\n",
    "# Create likelihood of one gender to buy over the other\n",
    "cat_bygender['Likelihood (M/F)'] = cat_bygender['M ratio']/cat_bygender['F ratio']\n",
    "\n",
    "cat_bygender['Total Ratio'] = cat_bygender['M ratio']+cat_bygender['F ratio']"
   ]
  },
  {
   "cell_type": "code",
   "execution_count": 21,
   "metadata": {
    "_uuid": "735d7ac5d74ba5629f0efa21ecd49b37fc25e089",
    "scrolled": true
   },
   "outputs": [
    {
     "data": {
      "text/html": [
       "<div>\n",
       "<style scoped>\n",
       "    .dataframe tbody tr th:only-of-type {\n",
       "        vertical-align: middle;\n",
       "    }\n",
       "\n",
       "    .dataframe tbody tr th {\n",
       "        vertical-align: top;\n",
       "    }\n",
       "\n",
       "    .dataframe thead th {\n",
       "        text-align: right;\n",
       "    }\n",
       "</style>\n",
       "<table border=\"1\" class=\"dataframe\">\n",
       "  <thead>\n",
       "    <tr style=\"text-align: right;\">\n",
       "      <th></th>\n",
       "      <th>M ratio</th>\n",
       "      <th>F ratio</th>\n",
       "      <th>Likelihood (M/F)</th>\n",
       "      <th>Total Ratio</th>\n",
       "    </tr>\n",
       "    <tr>\n",
       "      <th>Product_Category_1</th>\n",
       "      <th></th>\n",
       "      <th></th>\n",
       "      <th></th>\n",
       "      <th></th>\n",
       "    </tr>\n",
       "  </thead>\n",
       "  <tbody>\n",
       "    <tr>\n",
       "      <th>17</th>\n",
       "      <td>0.001248</td>\n",
       "      <td>0.000461</td>\n",
       "      <td>2.705079</td>\n",
       "      <td>0.001710</td>\n",
       "    </tr>\n",
       "    <tr>\n",
       "      <th>18</th>\n",
       "      <td>0.006658</td>\n",
       "      <td>0.002844</td>\n",
       "      <td>2.340854</td>\n",
       "      <td>0.009502</td>\n",
       "    </tr>\n",
       "    <tr>\n",
       "      <th>15</th>\n",
       "      <td>0.012778</td>\n",
       "      <td>0.007738</td>\n",
       "      <td>1.651252</td>\n",
       "      <td>0.020517</td>\n",
       "    </tr>\n",
       "    <tr>\n",
       "      <th>9</th>\n",
       "      <td>0.000824</td>\n",
       "      <td>0.000530</td>\n",
       "      <td>1.555993</td>\n",
       "      <td>0.001353</td>\n",
       "    </tr>\n",
       "    <tr>\n",
       "      <th>1</th>\n",
       "      <td>0.281099</td>\n",
       "      <td>0.184581</td>\n",
       "      <td>1.522908</td>\n",
       "      <td>0.465680</td>\n",
       "    </tr>\n",
       "    <tr>\n",
       "      <th>11</th>\n",
       "      <td>0.047612</td>\n",
       "      <td>0.035243</td>\n",
       "      <td>1.350972</td>\n",
       "      <td>0.082855</td>\n",
       "    </tr>\n",
       "    <tr>\n",
       "      <th>6</th>\n",
       "      <td>0.038702</td>\n",
       "      <td>0.033851</td>\n",
       "      <td>1.143303</td>\n",
       "      <td>0.072553</td>\n",
       "    </tr>\n",
       "    <tr>\n",
       "      <th>10</th>\n",
       "      <td>0.009606</td>\n",
       "      <td>0.008608</td>\n",
       "      <td>1.115868</td>\n",
       "      <td>0.018214</td>\n",
       "    </tr>\n",
       "    <tr>\n",
       "      <th>2</th>\n",
       "      <td>0.044220</td>\n",
       "      <td>0.042157</td>\n",
       "      <td>1.048947</td>\n",
       "      <td>0.086377</td>\n",
       "    </tr>\n",
       "    <tr>\n",
       "      <th>16</th>\n",
       "      <td>0.018092</td>\n",
       "      <td>0.017875</td>\n",
       "      <td>1.012130</td>\n",
       "      <td>0.035967</td>\n",
       "    </tr>\n",
       "    <tr>\n",
       "      <th>7</th>\n",
       "      <td>0.006759</td>\n",
       "      <td>0.007020</td>\n",
       "      <td>0.962857</td>\n",
       "      <td>0.013779</td>\n",
       "    </tr>\n",
       "    <tr>\n",
       "      <th>13</th>\n",
       "      <td>0.009897</td>\n",
       "      <td>0.010802</td>\n",
       "      <td>0.916204</td>\n",
       "      <td>0.020699</td>\n",
       "    </tr>\n",
       "    <tr>\n",
       "      <th>5</th>\n",
       "      <td>0.264919</td>\n",
       "      <td>0.311649</td>\n",
       "      <td>0.850058</td>\n",
       "      <td>0.576568</td>\n",
       "    </tr>\n",
       "    <tr>\n",
       "      <th>8</th>\n",
       "      <td>0.195335</td>\n",
       "      <td>0.249227</td>\n",
       "      <td>0.783766</td>\n",
       "      <td>0.444562</td>\n",
       "    </tr>\n",
       "    <tr>\n",
       "      <th>3</th>\n",
       "      <td>0.034474</td>\n",
       "      <td>0.044434</td>\n",
       "      <td>0.775849</td>\n",
       "      <td>0.078908</td>\n",
       "    </tr>\n",
       "    <tr>\n",
       "      <th>4</th>\n",
       "      <td>0.019722</td>\n",
       "      <td>0.027020</td>\n",
       "      <td>0.729905</td>\n",
       "      <td>0.046743</td>\n",
       "    </tr>\n",
       "    <tr>\n",
       "      <th>12</th>\n",
       "      <td>0.005866</td>\n",
       "      <td>0.011324</td>\n",
       "      <td>0.518023</td>\n",
       "      <td>0.017190</td>\n",
       "    </tr>\n",
       "    <tr>\n",
       "      <th>14</th>\n",
       "      <td>0.002188</td>\n",
       "      <td>0.004637</td>\n",
       "      <td>0.471870</td>\n",
       "      <td>0.006825</td>\n",
       "    </tr>\n",
       "  </tbody>\n",
       "</table>\n",
       "</div>"
      ],
      "text/plain": [
       "                     M ratio   F ratio  Likelihood (M/F)  Total Ratio\n",
       "Product_Category_1                                                   \n",
       "17                  0.001248  0.000461          2.705079     0.001710\n",
       "18                  0.006658  0.002844          2.340854     0.009502\n",
       "15                  0.012778  0.007738          1.651252     0.020517\n",
       "9                   0.000824  0.000530          1.555993     0.001353\n",
       "1                   0.281099  0.184581          1.522908     0.465680\n",
       "11                  0.047612  0.035243          1.350972     0.082855\n",
       "6                   0.038702  0.033851          1.143303     0.072553\n",
       "10                  0.009606  0.008608          1.115868     0.018214\n",
       "2                   0.044220  0.042157          1.048947     0.086377\n",
       "16                  0.018092  0.017875          1.012130     0.035967\n",
       "7                   0.006759  0.007020          0.962857     0.013779\n",
       "13                  0.009897  0.010802          0.916204     0.020699\n",
       "5                   0.264919  0.311649          0.850058     0.576568\n",
       "8                   0.195335  0.249227          0.783766     0.444562\n",
       "3                   0.034474  0.044434          0.775849     0.078908\n",
       "4                   0.019722  0.027020          0.729905     0.046743\n",
       "12                  0.005866  0.011324          0.518023     0.017190\n",
       "14                  0.002188  0.004637          0.471870     0.006825"
      ]
     },
     "execution_count": 21,
     "metadata": {},
     "output_type": "execute_result"
    }
   ],
   "source": [
    "cat_bygender.sort_values(by='Likelihood (M/F)',ascending=False)"
   ]
  },
  {
   "cell_type": "markdown",
   "metadata": {
    "_uuid": "378b6fb306016bbe4caecdd2cbb2e3c8e29b3f9d"
   },
   "source": [
    "This table tells us a lot about how likely a type of product is to be bought in regards of gender. For instance, men are almost 3 times as likely to buy an item in category 17, while women are almost 2 times as likely to buy a product in category 14."
   ]
  },
  {
   "cell_type": "markdown",
   "metadata": {
    "_uuid": "d3f3995c1195d556378d50c4686c02af3383c9f9"
   },
   "source": [
    "***"
   ]
  },
  {
   "cell_type": "markdown",
   "metadata": {
    "_uuid": "617644ae6984b3f4ea66c444831812d8b0221e55"
   },
   "source": [
    "## 4. Age\n",
    "Since as of now, **Age** values are strings, lets encode each group so they can be represented with an integer value which a machine learning algorithm can understand:"
   ]
  },
  {
   "cell_type": "code",
   "execution_count": 22,
   "metadata": {
    "_uuid": "3c87eaf778ea0657cea37822017790851e19ab0f"
   },
   "outputs": [],
   "source": [
    "# Encoding the age groups\n",
    "sales['Age_Encoded'] = sales['Age'].map({'0-17':0,'18-25':1,\n",
    "                          '26-35':2,'36-45':3,\n",
    "                          '46-50':4,'51-55':5,\n",
    "                          '55+':6})\n"
   ]
  },
  {
   "cell_type": "code",
   "execution_count": 23,
   "metadata": {
    "_uuid": "d6ef826253bee99c101ac2991190236a988ae104"
   },
   "outputs": [
    {
     "data": {
      "image/png": "[encoded data removed]",
      "text/plain": [
       "<Figure size 1008x432 with 2 Axes>"
      ]
     },
     "metadata": {
      "needs_background": "light"
     },
     "output_type": "display_data"
    }
   ],
   "source": [
    "prod_byage = sales.groupby('Age').nunique()['Product_ID']\n",
    "\n",
    "fig,ax = plt.subplots(1,2,figsize=(14,6))\n",
    "ax = ax.ravel()\n",
    "\n",
    "sns.countplot(sales['Age'].sort_values(),ax=ax[0], palette=\"Blues_d\")\n",
    "ax[0].set_xlabel('Age Group')\n",
    "ax[0].set_title('Age Group Distribution')\n",
    "sns.barplot(x=prod_byage.index,y=prod_byage.values,ax=ax[1], palette=\"Blues_d\")\n",
    "ax[1].set_xlabel('Age Group')\n",
    "ax[1].set_title('Unique Products by Age')\n",
    "\n",
    "plt.show()"
   ]
  },
  {
   "cell_type": "markdown",
   "metadata": {
    "_uuid": "0a3c85fcb712c722da1103e8eda5ead029ce52b5"
   },
   "source": [
    "It's quite apparent that the largest age group amongst the customers is 26-35. Interestingly, the distribution of product purchase, in terms of quantity, does not vary greatly amongst the age groups. This means that, though the 26-35 age group is the most popular, the other age groups purchase almost as many unique items as them. But does this mean that the amount of money spent amongst the age groups is the same? Let's see..."
   ]
  },
  {
   "cell_type": "code",
   "execution_count": 24,
   "metadata": {
    "_uuid": "0b2bd281419015c265ec3797a6e5e67da36af6bf"
   },
   "outputs": [
    {
     "data": {
      "image/png": "[encoded data removed]",
      "text/plain": [
       "<Figure size 864x432 with 1 Axes>"
      ]
     },
     "metadata": {
      "needs_background": "light"
     },
     "output_type": "display_data"
    }
   ],
   "source": [
    "spent_byage = sales.groupby(by='Age').sum()['Purchase']\n",
    "plt.figure(figsize=(12,6))\n",
    "\n",
    "sns.barplot(x=spent_byage.index,y=spent_byage.values, palette=\"Blues_d\")\n",
    "plt.title('Mean Purchases per Age Group')\n",
    "plt.show()"
   ]
  },
  {
   "cell_type": "markdown",
   "metadata": {
    "_uuid": "324341122c194288908d7663285915c9918b0411"
   },
   "source": [
    "Our data clearly shows that the amount of money made from each age group correlates proportionally with the amount of customers within the age groups. This can be valuable information for the store, as it might want to add more products geared towards this age group in the future, or perhaps work on marketing different items to increase a broader diversity in the age groups of their customers."
   ]
  },
  {
   "cell_type": "markdown",
   "metadata": {
    "_uuid": "bdd083f1db236d73f7a14b2eddfc2f4fc4731465"
   },
   "source": [
    "***"
   ]
  },
  {
   "cell_type": "markdown",
   "metadata": {
    "_uuid": "29f9d9ad9b6ec707c838bb225e8a57c5def2dcfb"
   },
   "source": [
    "## 5. Occupation"
   ]
  },
  {
   "cell_type": "markdown",
   "metadata": {
    "_uuid": "92708b24c7f5c5ea3312b68326d81e7ba718adeb"
   },
   "source": [
    "This sections draws some insights on our data in terms of the occupation of the customers."
   ]
  },
  {
   "cell_type": "code",
   "execution_count": 32,
   "metadata": {
    "_uuid": "3b60dd68b267f2b5bbf3bdb637934bae7fa6118c"
   },
   "outputs": [
    {
     "data": {
      "image/png": "[encoded data removed]",
      "text/plain": [
       "<Figure size 864x432 with 1 Axes>"
      ]
     },
     "metadata": {
      "needs_background": "light"
     },
     "output_type": "display_data"
    }
   ],
   "source": [
    "plt.figure(figsize=(12,6))\n",
    "sns.countplot(sales['Occupation'],palette=\"Blues_d\")\n",
    "plt.title('Occupation Distribution')\n",
    "plt.show()"
   ]
  },
  {
   "cell_type": "code",
   "execution_count": 33,
   "metadata": {
    "_uuid": "8d77622be59389b4fcf219d7936287cd9faa9364"
   },
   "outputs": [
    {
     "data": {
      "image/png": "[encoded data removed]",
      "text/plain": [
       "<Figure size 864x432 with 1 Axes>"
      ]
     },
     "metadata": {
      "needs_background": "light"
     },
     "output_type": "display_data"
    }
   ],
   "source": [
    "plt.figure(figsize=(12,6))\n",
    "prod_by_occ = sales.groupby(by='Occupation').nunique()['Product_ID']\n",
    "\n",
    "sns.barplot(x=prod_by_occ.index,y=prod_by_occ.values,palette=\"Blues_d\")\n",
    "plt.title('Unique Products by Occupation')\n",
    "plt.show()"
   ]
  },
  {
   "cell_type": "code",
   "execution_count": 31,
   "metadata": {
    "_uuid": "70082a3c44c54e772ab4309db38ff90142f5576d"
   },
   "outputs": [
    {
     "data": {
      "image/png": "[encoded data removed]",
      "text/plain": [
       "<Figure size 864x432 with 1 Axes>"
      ]
     },
     "metadata": {
      "needs_background": "light"
     },
     "output_type": "display_data"
    }
   ],
   "source": [
    "spent_by_occ = sales.groupby(by='Occupation').sum()['Purchase']\n",
    "plt.figure(figsize=(12,6))\n",
    "\n",
    "sns.barplot(x=spent_by_occ.index,y=spent_by_occ.values,palette=\"Blues_d\")\n",
    "plt.title('Total Money Spent per Occupation')\n",
    "plt.show()"
   ]
  },
  {
   "cell_type": "markdown",
   "metadata": {
    "_uuid": "5571e5048b5a9dac8c478493a4cbe624f42b4c9d"
   },
   "source": [
    "Once again, the distribution of the mean amount spent within each occupation appears to mirror the distribution of the amount of people within each occupation. This is fortunate from a data science perspective, as we are not working with odd or outstanding features. Our data, in terms of age and occupation seems to simply make sense."
   ]
  },
  {
   "cell_type": "markdown",
   "metadata": {},
   "source": [
    "***"
   ]
  },
  {
   "cell_type": "markdown",
   "metadata": {
    "_uuid": "aa0495fb647bddbf51d33dcaf8d8a82a11639b10"
   },
   "source": [
    "## 6. Products"
   ]
  },
  {
   "cell_type": "markdown",
   "metadata": {
    "_uuid": "1f9fbd282418fe87e1bf07db6035091fcabb73c6"
   },
   "source": [
    "Here we explore the products themselves. This is important, as we do not have labeled items in this dataset. Theoretically, a customer could be spending $5,000 on 4 new TVs, or 10,000 pens. This difference matters for stores, as their profits are affected. Since we do not know what the items are, let's explore the categories of the items."
   ]
  },
  {
   "cell_type": "code",
   "execution_count": 34,
   "metadata": {
    "_uuid": "2c0bdd4a6763fcb335013a0837e4811cd4ac42d0"
   },
   "outputs": [
    {
     "data": {
      "image/png": "[encoded data removed]",
      "text/plain": [
       "<Figure size 864x432 with 1 Axes>"
      ]
     },
     "metadata": {
      "needs_background": "light"
     },
     "output_type": "display_data"
    }
   ],
   "source": [
    "plt.figure(figsize=(12,6))\n",
    "prod_by_cat = sales.groupby('Product_Category_1')['Product_ID'].nunique()\n",
    "\n",
    "sns.barplot(x=prod_by_cat.index,y=prod_by_cat.values, palette=\"Blues_d\")\n",
    "plt.title('Number of Unique Items per Category')\n",
    "plt.show()"
   ]
  },
  {
   "cell_type": "markdown",
   "metadata": {
    "_uuid": "175e1f540e004a6d3d2d8f5ac642c160e380c32b"
   },
   "source": [
    "Category labels 1, 5, and 8 clearly have the most items within them. This could mean the store is known for that item, or that the category is a broad one."
   ]
  },
  {
   "cell_type": "code",
   "execution_count": 36,
   "metadata": {
    "_uuid": "2c151d5de377bcf9fb50eb58b8b544015f9003db"
   },
   "outputs": [
    {
     "data": {
      "image/png": "[encoded data removed]",
      "text/plain": [
       "<Figure size 864x432 with 1 Axes>"
      ]
     },
     "metadata": {
      "needs_background": "light"
     },
     "output_type": "display_data"
    }
   ],
   "source": [
    "category = []\n",
    "mean_purchase = []\n",
    "\n",
    "\n",
    "for i in sales['Product_Category_1'].unique():\n",
    "    category.append(i)\n",
    "category.sort()\n",
    "\n",
    "for e in category:\n",
    "    mean_purchase.append(sales[sales['Product_Category_1']==e]['Purchase'].mean())\n",
    "\n",
    "plt.figure(figsize=(12,6))\n",
    "\n",
    "sns.barplot(x=category,y=mean_purchase,palette=\"Blues_d\")\n",
    "plt.title('Mean of the Purchases per Category')\n",
    "plt.xlabel('Product Category')\n",
    "plt.ylabel('Mean Purchase')\n",
    "plt.show()"
   ]
  },
  {
   "cell_type": "markdown",
   "metadata": {
    "_uuid": "248e583811febd647fdc2ec2bcec9def16ff73c6"
   },
   "source": [
    "Interestingly enough, our most popular categories are not the ones making the most money. This appears to be a big store, and they may be aware of this. Yet this same form of analysis can be used in the case of a smaller store that might not be aware, and it could be very useful."
   ]
  },
  {
   "cell_type": "markdown",
   "metadata": {
    "_uuid": "d62593ffe0894b8cd8d8e673d792356c3e5f4cf7"
   },
   "source": [
    "## 7. Estimate of price and quantity of purchase\n",
    "</font>\n",
    "\n",
    "Since the **Purchases** feature alludes to how much a customer paid for an unknown amount of a certain item, let's make a bold assumption that the lowest purchase paid by product is the price of said item:"
   ]
  },
  {
   "cell_type": "code",
   "execution_count": 37,
   "metadata": {
    "_uuid": "40d2245aea6816ab293b0ca07591975d34679542"
   },
   "outputs": [],
   "source": [
    "# Dictionary of product IDs with minimum purchase\n",
    "prod_prices = sales.groupby('Product_ID').min()['Purchase'].to_dict()"
   ]
  },
  {
   "cell_type": "markdown",
   "metadata": {
    "_uuid": "8542a3e6b53d676379314a04f65c4864c1706805"
   },
   "source": [
    "Now, the purchase value for each item ID is grouped by what one could asume is the amount of items purchased. Then, the prices and quantities calculated below are an estimate, but it is a very good one:"
   ]
  },
  {
   "cell_type": "code",
   "execution_count": 38,
   "metadata": {
    "_uuid": "a8d067285eee6f186344e50d988c5348d95cdb7b"
   },
   "outputs": [],
   "source": [
    "def find_price(row):\n",
    "    prod = row['Product_ID']\n",
    "    \n",
    "    return prod_prices[prod]"
   ]
  },
  {
   "cell_type": "code",
   "execution_count": 39,
   "metadata": {
    "_uuid": "62ec5cfcac3aa02d4e49e1790d01808092f86c89"
   },
   "outputs": [],
   "source": [
    "sales['Price'] = sales.apply(find_price,axis=1)"
   ]
  },
  {
   "cell_type": "code",
   "execution_count": 40,
   "metadata": {
    "_uuid": "b1135ba1c18f052287ba68629f6f15f249829e17"
   },
   "outputs": [],
   "source": [
    "sales['Amount'] = round(sales['Purchase']/sales['Price']).astype(int)"
   ]
  },
  {
   "cell_type": "code",
   "execution_count": 41,
   "metadata": {
    "_uuid": "0b3a29fc8e667aa23e7315d659ce13f2b110e166"
   },
   "outputs": [
    {
     "data": {
      "text/html": [
       "<div>\n",
       "<style scoped>\n",
       "    .dataframe tbody tr th:only-of-type {\n",
       "        vertical-align: middle;\n",
       "    }\n",
       "\n",
       "    .dataframe tbody tr th {\n",
       "        vertical-align: top;\n",
       "    }\n",
       "\n",
       "    .dataframe thead th {\n",
       "        text-align: right;\n",
       "    }\n",
       "</style>\n",
       "<table border=\"1\" class=\"dataframe\">\n",
       "  <thead>\n",
       "    <tr style=\"text-align: right;\">\n",
       "      <th></th>\n",
       "      <th>User_ID</th>\n",
       "      <th>Product_ID</th>\n",
       "      <th>Gender</th>\n",
       "      <th>Age</th>\n",
       "      <th>Occupation</th>\n",
       "      <th>City_Category</th>\n",
       "      <th>Stay_In_Current_City_Years</th>\n",
       "      <th>Marital_Status</th>\n",
       "      <th>Product_Category_1</th>\n",
       "      <th>Product_Category_2</th>\n",
       "      <th>Product_Category_3</th>\n",
       "      <th>Purchase</th>\n",
       "      <th>Age_Encoded</th>\n",
       "      <th>Price</th>\n",
       "      <th>Amount</th>\n",
       "    </tr>\n",
       "  </thead>\n",
       "  <tbody>\n",
       "    <tr>\n",
       "      <th>0</th>\n",
       "      <td>1000001</td>\n",
       "      <td>P00069042</td>\n",
       "      <td>F</td>\n",
       "      <td>0-17</td>\n",
       "      <td>10</td>\n",
       "      <td>A</td>\n",
       "      <td>2</td>\n",
       "      <td>0</td>\n",
       "      <td>3</td>\n",
       "      <td>NaN</td>\n",
       "      <td>NaN</td>\n",
       "      <td>8370</td>\n",
       "      <td>0</td>\n",
       "      <td>2648</td>\n",
       "      <td>3</td>\n",
       "    </tr>\n",
       "    <tr>\n",
       "      <th>1</th>\n",
       "      <td>1000001</td>\n",
       "      <td>P00248942</td>\n",
       "      <td>F</td>\n",
       "      <td>0-17</td>\n",
       "      <td>10</td>\n",
       "      <td>A</td>\n",
       "      <td>2</td>\n",
       "      <td>0</td>\n",
       "      <td>1</td>\n",
       "      <td>6.0</td>\n",
       "      <td>14.0</td>\n",
       "      <td>15200</td>\n",
       "      <td>0</td>\n",
       "      <td>3880</td>\n",
       "      <td>4</td>\n",
       "    </tr>\n",
       "    <tr>\n",
       "      <th>2</th>\n",
       "      <td>1000001</td>\n",
       "      <td>P00087842</td>\n",
       "      <td>F</td>\n",
       "      <td>0-17</td>\n",
       "      <td>10</td>\n",
       "      <td>A</td>\n",
       "      <td>2</td>\n",
       "      <td>0</td>\n",
       "      <td>12</td>\n",
       "      <td>NaN</td>\n",
       "      <td>NaN</td>\n",
       "      <td>1422</td>\n",
       "      <td>0</td>\n",
       "      <td>346</td>\n",
       "      <td>4</td>\n",
       "    </tr>\n",
       "    <tr>\n",
       "      <th>3</th>\n",
       "      <td>1000001</td>\n",
       "      <td>P00085442</td>\n",
       "      <td>F</td>\n",
       "      <td>0-17</td>\n",
       "      <td>10</td>\n",
       "      <td>A</td>\n",
       "      <td>2</td>\n",
       "      <td>0</td>\n",
       "      <td>12</td>\n",
       "      <td>14.0</td>\n",
       "      <td>NaN</td>\n",
       "      <td>1057</td>\n",
       "      <td>0</td>\n",
       "      <td>365</td>\n",
       "      <td>3</td>\n",
       "    </tr>\n",
       "    <tr>\n",
       "      <th>4</th>\n",
       "      <td>1000002</td>\n",
       "      <td>P00285442</td>\n",
       "      <td>M</td>\n",
       "      <td>55+</td>\n",
       "      <td>16</td>\n",
       "      <td>C</td>\n",
       "      <td>4+</td>\n",
       "      <td>0</td>\n",
       "      <td>8</td>\n",
       "      <td>NaN</td>\n",
       "      <td>NaN</td>\n",
       "      <td>7969</td>\n",
       "      <td>6</td>\n",
       "      <td>3920</td>\n",
       "      <td>2</td>\n",
       "    </tr>\n",
       "  </tbody>\n",
       "</table>\n",
       "</div>"
      ],
      "text/plain": [
       "   User_ID Product_ID Gender   Age  Occupation City_Category  \\\n",
       "0  1000001  P00069042      F  0-17          10             A   \n",
       "1  1000001  P00248942      F  0-17          10             A   \n",
       "2  1000001  P00087842      F  0-17          10             A   \n",
       "3  1000001  P00085442      F  0-17          10             A   \n",
       "4  1000002  P00285442      M   55+          16             C   \n",
       "\n",
       "  Stay_In_Current_City_Years  Marital_Status  Product_Category_1  \\\n",
       "0                          2               0                   3   \n",
       "1                          2               0                   1   \n",
       "2                          2               0                  12   \n",
       "3                          2               0                  12   \n",
       "4                         4+               0                   8   \n",
       "\n",
       "   Product_Category_2  Product_Category_3  Purchase  Age_Encoded  Price  \\\n",
       "0                 NaN                 NaN      8370            0   2648   \n",
       "1                 6.0                14.0     15200            0   3880   \n",
       "2                 NaN                 NaN      1422            0    346   \n",
       "3                14.0                 NaN      1057            0    365   \n",
       "4                 NaN                 NaN      7969            6   3920   \n",
       "\n",
       "   Amount  \n",
       "0       3  \n",
       "1       4  \n",
       "2       4  \n",
       "3       3  \n",
       "4       2  "
      ]
     },
     "execution_count": 41,
     "metadata": {},
     "output_type": "execute_result"
    }
   ],
   "source": [
    "sales.head()"
   ]
  },
  {
   "cell_type": "markdown",
   "metadata": {},
   "source": [
    "***"
   ]
  },
  {
   "cell_type": "markdown",
   "metadata": {
    "_uuid": "bf1310504daa84cb64c807f4ed2e89326fdafafd"
   },
   "source": [
    "### Work In Progress..."
   ]
  }
 ],
 "metadata": {
  "kernelspec": {
   "display_name": "Python 3",
   "language": "python",
   "name": "python3"
  },
  "language_info": {
   "codemirror_mode": {
    "name": "ipython",
    "version": 3
   },
   "file_extension": ".py",
   "mimetype": "text/x-python",
   "name": "python",
   "nbconvert_exporter": "python",
   "pygments_lexer": "ipython3",
   "version": "3.6.6"
  }
 },
 "nbformat": 4,
 "nbformat_minor": 1
}
